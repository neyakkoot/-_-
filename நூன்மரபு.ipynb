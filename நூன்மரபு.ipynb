{
  "nbformat": 4,
  "nbformat_minor": 0,
  "metadata": {
    "colab": {
      "provenance": []
    },
    "kernelspec": {
      "name": "python3",
      "display_name": "Python 3"
    },
    "language_info": {
      "name": "python"
    }
  },
  "cells": [
    {
      "cell_type": "code",
      "execution_count": 1,
      "metadata": {
        "colab": {
          "base_uri": "https://localhost:8080/"
        },
        "id": "Zm0A8XRkV_KI",
        "outputId": "71a4163c-1f9c-48dd-ba5e-2d49b6033fad"
      },
      "outputs": [
        {
          "output_type": "stream",
          "name": "stdout",
          "text": [
            "Collecting Open-Tamil\n",
            "  Downloading Open-Tamil-1.1.tar.gz (2.6 MB)\n",
            "\u001b[2K     \u001b[90m━━━━━━━━━━━━━━━━━━━━━━━━━━━━━━━━━━━━━━━━\u001b[0m \u001b[32m2.6/2.6 MB\u001b[0m \u001b[31m2.5 MB/s\u001b[0m eta \u001b[36m0:00:00\u001b[0m\n",
            "\u001b[?25h  Preparing metadata (setup.py) ... \u001b[?25l\u001b[?25hdone\n",
            "Building wheels for collected packages: Open-Tamil\n",
            "  Building wheel for Open-Tamil (setup.py) ... \u001b[?25l\u001b[?25hdone\n",
            "  Created wheel for Open-Tamil: filename=Open_Tamil-1.1-py3-none-any.whl size=2388371 sha256=725556f216d2e2a35dcabbfaa5c2d757213939186b52f078c980887fd1c148b7\n",
            "  Stored in directory: /root/.cache/pip/wheels/d3/48/47/d7829e657a9d52e32a566bc6d8a4be9235d0c52d2539f10ead\n",
            "Successfully built Open-Tamil\n",
            "Installing collected packages: Open-Tamil\n",
            "Successfully installed Open-Tamil-1.1\n"
          ]
        }
      ],
      "source": [
        "!pip install Open-Tamil"
      ]
    },
    {
      "cell_type": "code",
      "source": [
        "import tamil\n",
        "print(\"தொல்காப்பிய ஆசானுக்கு வணக்கம்\")"
      ],
      "metadata": {
        "colab": {
          "base_uri": "https://localhost:8080/"
        },
        "id": "TG6s1i99WCnW",
        "outputId": "c2521037-e868-419b-dd53-0ddc880757ef"
      },
      "execution_count": 4,
      "outputs": [
        {
          "output_type": "stream",
          "name": "stdout",
          "text": [
            "தொல்காப்பிய ஆசானுக்கு வணக்கம்\n"
          ]
        }
      ]
    },
    {
      "cell_type": "code",
      "source": [
        "import tamil\n",
        "\n",
        "தொல்காப்பியம்_எழுத்ததிகாரம்_இயல்கள் = ['நூன்மரபு', 'மொழிமரபு', 'பிறப்பியல்', 'புணரியல்', 'தொகைமரபு', 'உருபியல்', 'உயிர் மயங்கியல்', 'புள்ளி மயங்கியல்', 'குற்றியலுகரப் புணரியல்']\n",
        "print(தொல்காப்பியம்_எழுத்ததிகாரம்_இயல்கள்)\n"
      ],
      "metadata": {
        "colab": {
          "base_uri": "https://localhost:8080/"
        },
        "id": "Su7xZbEBWQjJ",
        "outputId": "65ee0778-cb9a-4224-8481-759c9f54caf6"
      },
      "execution_count": 5,
      "outputs": [
        {
          "output_type": "stream",
          "name": "stdout",
          "text": [
            "['நூன்மரபு', 'மொழிமரபு', 'பிறப்பியல்', 'புணரியல்', 'தொகைமரபு', 'உருபியல்', 'உயிர் மயங்கியல்', 'புள்ளி மயங்கியல்', 'குற்றியலுகரப் புணரியல்']\n"
          ]
        }
      ]
    },
    {
      "cell_type": "code",
      "source": [
        "import tamil\n",
        "நூன்மரபு = ['எழுத்துக்களின் வகை', 'மாத்திரை', 'எண்', 'வடிவு', 'மயக்கம்', 'பிற மரபுகள்']\n",
        "print(நூன்மரபு)\n"
      ],
      "metadata": {
        "colab": {
          "base_uri": "https://localhost:8080/"
        },
        "id": "mgA47FEyWm9Z",
        "outputId": "82e33966-b27e-4070-9b3b-87eb1dd96597"
      },
      "execution_count": 6,
      "outputs": [
        {
          "output_type": "stream",
          "name": "stdout",
          "text": [
            "['எழுத்துக்களின் வகை', 'மாத்திரை', 'எண்', 'வடிவு', 'மயக்கம்', 'பிற மரபுகள்']\n"
          ]
        }
      ]
    },
    {
      "cell_type": "code",
      "source": [
        "எழுத்துக்களின்_வகை = ['முதலெழுத்து', 'சார்பெழுத்து']\n",
        "print(எழுத்துக்களின்_வகை)\n"
      ],
      "metadata": {
        "colab": {
          "base_uri": "https://localhost:8080/"
        },
        "id": "8VWrpUSGXTfQ",
        "outputId": "ef881b3b-adfc-49a1-aa26-0ab02ca96065"
      },
      "execution_count": 7,
      "outputs": [
        {
          "output_type": "stream",
          "name": "stdout",
          "text": [
            "['முதலெழுத்து', 'சார்பெழுத்து']\n"
          ]
        }
      ]
    },
    {
      "cell_type": "code",
      "source": [
        "முதலெழுத்து = ['உயிரெழுத்து', 'மெய்யெழுத்து']\n",
        "print(முதலெழுத்து)\n"
      ],
      "metadata": {
        "colab": {
          "base_uri": "https://localhost:8080/"
        },
        "id": "8f2hqK4QXV05",
        "outputId": "67c8de6d-2e2b-4839-f507-ff05a98754b5"
      },
      "execution_count": 8,
      "outputs": [
        {
          "output_type": "stream",
          "name": "stdout",
          "text": [
            "['உயிரெழுத்து', 'மெய்யெழுத்து']\n"
          ]
        }
      ]
    },
    {
      "cell_type": "code",
      "source": [
        "உயிரெழுத்து = tamil.utf8.uyir_letters\n",
        "print(உயிரெழுத்து)\n"
      ],
      "metadata": {
        "colab": {
          "base_uri": "https://localhost:8080/"
        },
        "id": "Qny_yLVGXbQM",
        "outputId": "e47d4391-9a51-403f-89f9-685922405211"
      },
      "execution_count": 9,
      "outputs": [
        {
          "output_type": "stream",
          "name": "stdout",
          "text": [
            "['அ', 'ஆ', 'இ', 'ஈ', 'உ', 'ஊ', 'எ', 'ஏ', 'ஐ', 'ஒ', 'ஓ', 'ஔ']\n"
          ]
        }
      ]
    },
    {
      "cell_type": "code",
      "source": [
        "மெய்யெழுத்து = ['க்', 'ங்', 'ச்', 'ஞ்', 'ட்', 'ண்', 'த்', 'ந்', 'ப்', 'ம்', 'ய்', 'ர்', 'ல்', 'வ்', 'ழ்', 'ள்', 'ற்', 'ன்']\n",
        "#மெய்யெழுத்து = tamil.utf8.Mei_letters\n",
        "print(மெய்யெழுத்து)\n"
      ],
      "metadata": {
        "colab": {
          "base_uri": "https://localhost:8080/"
        },
        "id": "dRBMYsHnXid8",
        "outputId": "985c279c-e1b4-4c46-93e6-48204edce7d1"
      },
      "execution_count": 13,
      "outputs": [
        {
          "output_type": "stream",
          "name": "stdout",
          "text": [
            "['க்', 'ங்', 'ச்', 'ஞ்', 'ட்', 'ண்', 'த்', 'ந்', 'ப்', 'ம்', 'ய்', 'ர்', 'ல்', 'வ்', 'ழ்', 'ள்', 'ற்', 'ன்']\n"
          ]
        }
      ]
    },
    {
      "cell_type": "code",
      "source": [
        "#மெய்யெழுத்து = ['க்', 'ங்', 'ச்', 'ஞ்', 'ட்', 'ண்', 'த்', 'ந்', 'ப்', 'ம்', 'ய்', 'ர்', 'ல்', 'வ்', 'ழ்', 'ள்', 'ற்', 'ன்']\n",
        "மெய்யெழுத்து = tamil.utf8.mei_letters\n",
        "print(மெய்யெழுத்து)"
      ],
      "metadata": {
        "colab": {
          "base_uri": "https://localhost:8080/"
        },
        "id": "dZuSgeb3YlI7",
        "outputId": "8eeeb37b-d6ca-4c7c-8953-e1ac82a5e6f8"
      },
      "execution_count": 14,
      "outputs": [
        {
          "output_type": "stream",
          "name": "stdout",
          "text": [
            "['க்', 'ச்', 'ட்', 'த்', 'ப்', 'ற்', 'ஞ்', 'ங்', 'ண்', 'ந்', 'ம்', 'ன்', 'ய்', 'ர்', 'ல்', 'வ்', 'ழ்', 'ள்']\n"
          ]
        }
      ]
    },
    {
      "cell_type": "code",
      "source": [
        "உயிரெழுத்து_வகை = ['குறில்', 'நெடில்']\n",
        "print(உயிரெழுத்து_வகை)\n"
      ],
      "metadata": {
        "colab": {
          "base_uri": "https://localhost:8080/"
        },
        "id": "CuV613MwZz7W",
        "outputId": "7764ec24-7f84-4dd1-f7c5-e342349b3031"
      },
      "execution_count": 15,
      "outputs": [
        {
          "output_type": "stream",
          "name": "stdout",
          "text": [
            "['குறில்', 'நெடில்']\n"
          ]
        }
      ]
    },
    {
      "cell_type": "code",
      "source": [
        "உயிரெழுத்து_வகை_குறில் = tamil.utf8.kuril_letters\n",
        "print(உயிரெழுத்து_வகை_குறில்)\n"
      ],
      "metadata": {
        "colab": {
          "base_uri": "https://localhost:8080/"
        },
        "id": "BueR56BGZ4vX",
        "outputId": "6fe04efd-afd1-4ac7-9c53-faee862a42e9"
      },
      "execution_count": 16,
      "outputs": [
        {
          "output_type": "stream",
          "name": "stdout",
          "text": [
            "['அ', 'இ', 'உ', 'எ', 'ஒ']\n"
          ]
        }
      ]
    },
    {
      "cell_type": "code",
      "source": [
        "உயிரெழுத்து_வகை_நெடில் = tamil.utf8.nedil_letters\n",
        "print(உயிரெழுத்து_வகை_நெடில்)\n"
      ],
      "metadata": {
        "colab": {
          "base_uri": "https://localhost:8080/"
        },
        "id": "dkll95SmZ920",
        "outputId": "b8122a61-e9f9-43a7-f644-ed53e9897b93"
      },
      "execution_count": 17,
      "outputs": [
        {
          "output_type": "stream",
          "name": "stdout",
          "text": [
            "['ஆ', 'ஈ', 'ஊ', 'ஏ', 'ஓ', 'ஐ', 'ஔ']\n"
          ]
        }
      ]
    },
    {
      "cell_type": "code",
      "source": [
        "சார்பெழுத்து = ['குற்றியலிகரம்', 'குற்றியலுகரம்', 'ஆய்தம்']\n",
        "print(சார்பெழுத்து)\n"
      ],
      "metadata": {
        "colab": {
          "base_uri": "https://localhost:8080/"
        },
        "id": "_FdWvAmYaDg8",
        "outputId": "54d0ca5f-5710-4c53-9104-d1c0c3dea4e7"
      },
      "execution_count": 18,
      "outputs": [
        {
          "output_type": "stream",
          "name": "stdout",
          "text": [
            "['குற்றியலிகரம்', 'குற்றியலுகரம்', 'ஆய்தம்']\n"
          ]
        }
      ]
    },
    {
      "cell_type": "code",
      "source": [
        "உயிர்_மெய் = [\n",
        "    'க', 'கா', 'கி', 'கீ', 'கு', 'கூ', 'கெ', 'கே', 'கை', 'கொ', 'கோ', 'கௌ',\n",
        "    'ங', 'ஙா', 'ஙி', 'ஙீ', 'ஙு', 'ஙூ', 'ஙெ', 'ஙே', 'ஙை', 'ஙொ', 'ஙோ', 'ஙௌ',\n",
        "    'ச', 'சா', 'சி', 'சீ', 'சு', 'சூ', 'செ', 'சே', 'சை', 'சொ', 'சோ', 'சௌ',\n",
        "    'ஞ', 'ஞா', 'ஞி', 'ஞீ', 'ஞு', 'ஞூ', 'ஞெ', 'ஞே', 'ஞை', 'ஞொ', 'ஞோ', 'ஞௌ',\n",
        "    'ட', 'டா', 'டி', 'டீ', 'டு', 'டூ', 'டெ', 'டே', 'டை', 'டொ', 'டோ', 'டௌ',\n",
        "    'ண', 'ணா', 'ணி', 'ணீ', 'ணு', 'ணூ', 'ணெ', 'ணே', 'ணை', 'ணொ', 'ணோ', 'ணௌ',\n",
        "    'த', 'தா', 'தி', 'தீ', 'து', 'தூ', 'தெ', 'தே', 'தை', 'தொ', 'தோ', 'தௌ',\n",
        "    'ந', 'நா', 'நி', 'நீ', 'நு', 'நூ', 'நெ', 'நே', 'நை', 'நொ', 'நோ', 'நௌ',\n",
        "    'ப', 'பா', 'பி', 'பீ', 'பு', 'பூ', 'பெ', 'பே', 'பை', 'பொ', 'போ', 'பௌ',\n",
        "    'ம', 'மா', 'மி', 'மீ', 'மு', 'மூ', 'மெ', 'மே', 'மை', 'மொ', 'மோ', 'மௌ',\n",
        "    'ய', 'யா', 'யி', 'யீ', 'யு', 'யூ', 'யெ', 'யே', 'யை', 'யொ', 'யோ', 'யௌ',\n",
        "    'ர', 'ரா', 'ரி', 'ரீ', 'ரு', 'ரூ', 'ரெ', 'ரே', 'ரை', 'ரொ', 'ரோ', 'ரௌ',\n",
        "    'ல', 'லா', 'லி', 'லீ', 'லு', 'லூ', 'லெ', 'லே', 'லை', 'லொ', 'லோ', 'லௌ',\n",
        "    'வ', 'வா', 'வி', 'வீ', 'வு', 'வூ', 'வெ', 'வே', 'வை', 'வொ', 'வோ', 'வௌ',\n",
        "    'ழ', 'ழா', 'ழி', 'ழீ', 'ழு', 'ழூ', 'ழெ', 'ழே', 'ழை', 'ழொ', 'ழோ', 'ழௌ',\n",
        "    'ள', 'ளா', 'ளி', 'ளீ', 'ளு', 'ளூ', 'ளெ', 'ளே', 'ளை', 'ளொ', 'ளோ', 'ளௌ'\n",
        "    'ற', 'றா', 'றி', 'றீ', 'று', 'றூ', 'றெ', 'றே', 'றை', 'றொ', 'றோ', 'றௌ',\n",
        "\n",
        "    'ன', 'னா', 'னி', 'னீ', 'னு', 'னூ', 'னெ', 'னே', 'னை', 'னொ', 'னோ', 'னௌ'\n",
        "]\n",
        "print(உயிர்_மெய்)\n"
      ],
      "metadata": {
        "colab": {
          "base_uri": "https://localhost:8080/"
        },
        "id": "Qr9t0HINaOKr",
        "outputId": "4cf443b8-7656-49a2-d18e-7649e6f6ba7f"
      },
      "execution_count": 21,
      "outputs": [
        {
          "output_type": "stream",
          "name": "stdout",
          "text": [
            "['க', 'கா', 'கி', 'கீ', 'கு', 'கூ', 'கெ', 'கே', 'கை', 'கொ', 'கோ', 'கௌ', 'ங', 'ஙா', 'ஙி', 'ஙீ', 'ஙு', 'ஙூ', 'ஙெ', 'ஙே', 'ஙை', 'ஙொ', 'ஙோ', 'ஙௌ', 'ச', 'சா', 'சி', 'சீ', 'சு', 'சூ', 'செ', 'சே', 'சை', 'சொ', 'சோ', 'சௌ', 'ஞ', 'ஞா', 'ஞி', 'ஞீ', 'ஞு', 'ஞூ', 'ஞெ', 'ஞே', 'ஞை', 'ஞொ', 'ஞோ', 'ஞௌ', 'ட', 'டா', 'டி', 'டீ', 'டு', 'டூ', 'டெ', 'டே', 'டை', 'டொ', 'டோ', 'டௌ', 'ண', 'ணா', 'ணி', 'ணீ', 'ணு', 'ணூ', 'ணெ', 'ணே', 'ணை', 'ணொ', 'ணோ', 'ணௌ', 'த', 'தா', 'தி', 'தீ', 'து', 'தூ', 'தெ', 'தே', 'தை', 'தொ', 'தோ', 'தௌ', 'ந', 'நா', 'நி', 'நீ', 'நு', 'நூ', 'நெ', 'நே', 'நை', 'நொ', 'நோ', 'நௌ', 'ப', 'பா', 'பி', 'பீ', 'பு', 'பூ', 'பெ', 'பே', 'பை', 'பொ', 'போ', 'பௌ', 'ம', 'மா', 'மி', 'மீ', 'மு', 'மூ', 'மெ', 'மே', 'மை', 'மொ', 'மோ', 'மௌ', 'ய', 'யா', 'யி', 'யீ', 'யு', 'யூ', 'யெ', 'யே', 'யை', 'யொ', 'யோ', 'யௌ', 'ர', 'ரா', 'ரி', 'ரீ', 'ரு', 'ரூ', 'ரெ', 'ரே', 'ரை', 'ரொ', 'ரோ', 'ரௌ', 'ல', 'லா', 'லி', 'லீ', 'லு', 'லூ', 'லெ', 'லே', 'லை', 'லொ', 'லோ', 'லௌ', 'வ', 'வா', 'வி', 'வீ', 'வு', 'வூ', 'வெ', 'வே', 'வை', 'வொ', 'வோ', 'வௌ', 'ழ', 'ழா', 'ழி', 'ழீ', 'ழு', 'ழூ', 'ழெ', 'ழே', 'ழை', 'ழொ', 'ழோ', 'ழௌ', 'ள', 'ளா', 'ளி', 'ளீ', 'ளு', 'ளூ', 'ளெ', 'ளே', 'ளை', 'ளொ', 'ளோ', 'ளௌற', 'றா', 'றி', 'றீ', 'று', 'றூ', 'றெ', 'றே', 'றை', 'றொ', 'றோ', 'றௌ', 'ன', 'னா', 'னி', 'னீ', 'னு', 'னூ', 'னெ', 'னே', 'னை', 'னொ', 'னோ', 'னௌ']\n"
          ]
        }
      ]
    }
  ]
}